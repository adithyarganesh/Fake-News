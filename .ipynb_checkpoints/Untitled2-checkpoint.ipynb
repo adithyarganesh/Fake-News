{
 "cells": [
  {
   "cell_type": "code",
   "execution_count": 1,
   "metadata": {},
   "outputs": [],
   "source": [
    "import pandas as pd\n",
    "df = pd.read_csv(\"fake_or_real_news.csv\")"
   ]
  },
  {
   "cell_type": "code",
   "execution_count": 2,
   "metadata": {},
   "outputs": [],
   "source": [
    "t = df[\"text\"][20]\n",
    "u = df[\"title\"][20]"
   ]
  },
  {
   "cell_type": "code",
   "execution_count": 7,
   "metadata": {},
   "outputs": [],
   "source": [
    "import re\n",
    "def clean(s):\n",
    "    return \" \".join(re.findall(r'\\w+', s, flags=re.UNICODE)).lower()"
   ]
  },
  {
   "cell_type": "code",
   "execution_count": 8,
   "metadata": {},
   "outputs": [],
   "source": [
    "t = clean(t)"
   ]
  },
  {
   "cell_type": "code",
   "execution_count": 9,
   "metadata": {},
   "outputs": [],
   "source": [
    "u = clean(u)"
   ]
  },
  {
   "cell_type": "code",
   "execution_count": 4,
   "metadata": {},
   "outputs": [],
   "source": [
    "from sklearn.feature_extraction.text import  TfidfVectorizer\n",
    "v = TfidfVectorizer()\n",
    "w = TfidfVectorizer()"
   ]
  },
  {
   "cell_type": "code",
   "execution_count": 11,
   "metadata": {},
   "outputs": [
    {
     "data": {
      "text/plain": [
       "'with little fanfare this fall the new york developer who had planned to build an islamic community center north of the world trade center announced that he would instead use the site for a 70 story tower of luxury condos those who had rallied in opposition to the building because of its religious affiliation back in 2010 were exultant the importance of the defeat of the ground zero mosque cannot be overstated pamela geller president of the american freedom defense initiative wrote on the website breitbart in september the ground zero mosque became a watershed issue in our effort to raise awareness of and ultimately halt and roll back the advance of islamic law and islamic supremacism in america it s all well and good that so many republicans have condemned donald trump s reprehensible call for a total and complete shutdown of muslims entering the united states house speaker paul d ryan wis was particularly forceful calling proper attention to the many muslims serving in our armed forces dying for this country when he was president george w bush honorably put a lid on right wing islamophobia he regularly praised american muslims and stressed that the united states needed muslim allies to fight violent extremism once bush was gone restraint on his side of politics fell away thus trump s embrace of a religious test for entry to our country did not come out of nowhere on the contrary it simply brought us to the bottom of a slippery slope created by the ongoing exploitation of anti muslim feeling for political purposes you don t have to reach far back in time to see why trump figured he had the ideological space for his muslim ban last month it was jeb bush who introduced the idea of linking the rights of syrian refugees to their religion he said he was comfortable granting admission to people like orphans and people who are clearly not going to be terrorists or christians asked how he d determine who was christian he explained that you can prove you re a christian sen ted cruz tex took a similar view saying there is no meaningful risk of christians committing acts of terror trump took limits on muslim access to our country to their logical if un american and odious conclusion vice president biden said that trump was serving up a very very dangerous brew but the brew has been steeping for a long time this is why the ground zero mosque episode is so instructive the demagoguery began with the labeling of the controversy itself as politifact pointed out the proposed mosque is not at or on ground zero it does not directly abut it or overlook it it was two long blocks away and while a mosque was part of the proposed cultural center the plans also included a swimming pool gym and basketball court a 500 seat auditorium a restaurant and culinary school a library and art studios this didn t stop opponents from going over the top and newt gingrich deserved some kind of award for the most incendiary comment of all nazis he said don t have the right to put up a sign next to the holocaust museum in washington when president obama defended the right of developers to build the project he was surprise surprise accused of being out of touch and republicans were happy to make the muslim center and obama s defense of religious rights an issue in the 2010 campaign i think it does speak to the lack of connection between the administration and washington and folks inside the beltway and mainstream america said sen john cornyn tex who was then chairman of the committee in charge of electing republicans to the senate voters he said felt they were being lectured to not listened to sound familiar at the time john feehery the veteran republican strategist put his finger on why republicans were so eager to lambaste obama s response to the ground zero issue this will help drive turnout for the gop base he said the republican establishment is now all upset with trump but he is simply the revenge of a republican base that took its leaders pandering on islam and a host of other issues seriously you can t be just a little intolerant of muslims any more than you can be just a little prejudiced against catholics or jews once the door to bigotry is opened it is very hard to shut read more from e j dionne s archive follow him on twitter or subscribe to his updates on facebook'"
      ]
     },
     "execution_count": 11,
     "metadata": {},
     "output_type": "execute_result"
    }
   ],
   "source": [
    "t"
   ]
  },
  {
   "cell_type": "code",
   "execution_count": 13,
   "metadata": {},
   "outputs": [
    {
     "data": {
      "text/plain": [
       "'the slippery slope to trump s proposed ban on muslims'"
      ]
     },
     "execution_count": 13,
     "metadata": {},
     "output_type": "execute_result"
    }
   ],
   "source": [
    "u"
   ]
  },
  {
   "cell_type": "code",
   "execution_count": 15,
   "metadata": {},
   "outputs": [],
   "source": [
    "import nltk\n",
    "_wnl = nltk.WordNetLemmatizer()\n",
    "\n",
    "\n",
    "def normalize_word(w):\n",
    "    return _wnl.lemmatize(w).lower()\n",
    "\n",
    "\n",
    "def get_tokenized_lemmas(s):\n",
    "    return [normalize_word(t) for t in nltk.word_tokenize(s)]"
   ]
  },
  {
   "cell_type": "code",
   "execution_count": 31,
   "metadata": {},
   "outputs": [],
   "source": [
    "from sklearn import feature_extraction\n",
    "def remove_stopwords(l):\n",
    "    # Removes stopwords from a list of tokens\n",
    "    return [w for w in l if w not in feature_extraction.text.ENGLISH_STOP_WORDS]"
   ]
  },
  {
   "cell_type": "code",
   "execution_count": null,
   "metadata": {},
   "outputs": [],
   "source": []
  },
  {
   "cell_type": "code",
   "execution_count": 40,
   "metadata": {},
   "outputs": [
    {
     "data": {
      "text/plain": [
       "['slippery', 'slope', 'trump', 's', 'proposed', 'ban', 'muslim']"
      ]
     },
     "execution_count": 40,
     "metadata": {},
     "output_type": "execute_result"
    }
   ],
   "source": [
    "vect"
   ]
  },
  {
   "cell_type": "code",
   "execution_count": 41,
   "metadata": {},
   "outputs": [],
   "source": [
    "vect = normalize_word(t)\n",
    "vect = get_tokenized_lemmas(vect)\n",
    "vect = remove_stopwords(vect)\n"
   ]
  },
  {
   "cell_type": "code",
   "execution_count": 43,
   "metadata": {},
   "outputs": [],
   "source": [
    "from nltk.stem import WordNetLemmatizer \n",
    "wnl = WordNetLemmatizer()\n",
    "lem_vect = []\n",
    "for word in vect: \n",
    "    lem_vect.append(wnl.lemmatize(word, pos='v'))"
   ]
  },
  {
   "cell_type": "code",
   "execution_count": 45,
   "metadata": {},
   "outputs": [],
   "source": [
    "tit = normalize_word(u)\n",
    "tit = get_tokenized_lemmas(tit)\n",
    "tit = remove_stopwords(tit)"
   ]
  },
  {
   "cell_type": "code",
   "execution_count": 46,
   "metadata": {},
   "outputs": [],
   "source": [
    "lem_tit = []\n",
    "for word in tit: \n",
    "    lem_tit.append(wnl.lemmatize(word, pos='v'))"
   ]
  },
  {
   "cell_type": "code",
   "execution_count": 47,
   "metadata": {},
   "outputs": [
    {
     "name": "stdout",
     "output_type": "stream",
     "text": [
      "{'fanfare': 99, 'seat': 227, 'tower': 267, 'exploitation': 93, 'leader': 155, 'new': 176, 'open': 182, 'ban': 25, 'terror': 259, 'proper': 203, 'islamophobia': 144, 'defend': 68, 'strategist': 249, 'luxury': 166, 'reach': 209, 'begin': 28, 'condo': 55, 'culinary': 64, 'watershed': 284, 'mainstream': 167, 'website': 285, 'entry': 89, 'revenge': 220, 'cruz': 63, 'take': 257, 'total': 265, 'response': 217, 'chairman': 42, 'rally': 208, 'announce': 14, 'republican': 216, 'directly': 77, 'limit': 160, 'administration': 7, 'subscribe': 252, 'act': 6, 'trump': 269, 'raise': 207, 'opponent': 183, 'dionne': 76, 'contrary': 57, 'unite': 273, 'halt': 123, 'sound': 241, 'community': 51, 'sen': 228, 'advance': 9, 'build': 36, 'propose': 204, 'instructive': 139, 'similar': 236, 'speaker': 244, 'christian': 44, 'school': 226, 'shutdown': 234, 'eager': 84, 'sign': 235, 'roll': 223, 'intolerant': 140, 'plan': 193, 'prejudice': 200, 'feel': 102, 'explain': 92, 'base': 26, 'think': 263, 'geller': 113, 'don': 80, 'restaurant': 218, 'condemn': 54, 'september': 230, 'voter': 281, 'archive': 16, 'odious': 180, '2010': 0, 'paul': 191, 'right': 221, 'abut': 3, 'extremism': 94, 'refugee': 211, 'clearly': 45, 'test': 261, 'away': 24, '70': 2, 'obama': 179, 'opposition': 184, 'just': 149, 'connection': 56, 'enter': 88, 'prove': 205, 'ryan': 224, 'space': 242, 'jeb': 146, 'make': 168, 'religious': 214, 'auditorium': 21, 'initiative': 136, 'access': 4, 'logical': 164, 'pool': 198, 'overlook': 186, 'point': 194, 'library': 157, 'committee': 50, 'affiliation': 10, 'islamic': 143, 'lambaste': 153, 'inside': 137, 'finger': 107, 'bigotry': 31, 'follow': 109, 'read': 210, 'john': 148, 'embrace': 87, 'view': 279, 'islam': 142, 'america': 12, 'mosque': 171, 'include': 135, 'familiar': 98, 'wi': 286, 'feehery': 101, 'introduce': 141, 'defense': 69, 'demagoguery': 70, 'instead': 138, 'senate': 229, 'good': 117, 'didn': 74, 'exultant': 95, 'trade': 268, 'admission': 8, 'particularly': 190, 'wa': 282, 'grind': 120, 'commit': 49, 'campaign': 39, 'american': 13, 'basketball': 27, 'political': 195, 'awareness': 23, 'holocaust': 127, 'block': 32, 'do': 78, 'hard': 125, 'overstate': 187, 'bring': 35, 'stop': 247, 'episode': 90, 'link': 161, 'die': 75, 'create': 62, 'little': 163, 'stress': 250, 'comment': 48, 'ha': 122, 'issue': 145, 'ted': 258, 'newt': 177, 'kind': 150, 'pamela': 188, 'grant': 119, 'complete': 52, 'catholic': 40, 'host': 129, 'label': 151, 'politifact': 197, 'jew': 147, 'people': 192, 'brew': 34, 'time': 264, 'update': 274, 'ally': 11, 'meaningful': 169, 'honorably': 128, 'freedom': 112, 'defeat': 67, 'controversy': 58, 'york': 290, 'terrorist': 260, 'drive': 83, 'george': 114, 'doe': 79, 'upset': 275, 'ask': 19, 'speak': 243, 'art': 18, 'lack': 152, 'arm': 17, 'supremacism': 253, 'orphan': 185, 'dangerous': 66, 'determine': 72, 'nazi': 174, 'beltway': 29, 'gym': 121, 'ideological': 132, 'ultimately': 272, 'praise': 199, 'conclusion': 53, 'politics': 196, 'zero': 291, 'come': 46, 'veteran': 277, 'story': 248, 'gop': 118, 'like': 159, 'cultural': 65, 'seriously': 231, 'fall': 97, 'house': 130, 'restraint': 219, 'touch': 266, 'reprehensible': 215, 'incendiary': 134, 'center': 41, 'risk': 222, 'establishment': 91, 'write': 289, 'forceful': 111, 'law': 154, 'twitter': 271, 'syrian': 256, 'vice': 278, 'happy': 124, 'charge': 43, 'donald': 81, 'wing': 287, 'site': 238, 'effort': 85, 'need': 175, 'state': 245, 'figure': 106, 'go': 116, 'anti': 15, 'deserve': 71, 'accuse': 5, 'idea': 131, 'comfortable': 47, 'simply': 237, 'facebook': 96, 'country': 60, 'muslim': 173, 'use': 276, 'studio': 251, 'swim': 255, 'project': 202, 'pander': 189, '500': 1, 'turnout': 270, 'door': 82, 'surprise': 254, 'steep': 246, 'award': 22, 'lecture': 156, 'folk': 108, 'regularly': 212, 'month': 170, 'say': 225, 'shut': 233, 'help': 126, 'attention': 20, 'importance': 133, 'purpose': 206, 'long': 165, 'slippery': 239, 'elect': 86, 'force': 110, 'call': 38, 'washington': 283, 'bush': 37, 'serve': 232, 'felt': 104, 'fell': 103, 'biden': 30, 'religion': 213, 'museum': 172, 'tex': 262, 'far': 100, 'president': 201, 'court': 61, 'developer': 73, 'fight': 105, 'lid': 158, 'cornyn': 59, 'gingrich': 115, 'world': 288, 'violent': 280, 'slope': 240, 'breitbart': 33, 'north': 178, 'ongoing': 181, 'listen': 162}\n",
      "[5.93447393 6.33993904 6.33993904 6.33993904 6.33993904 6.33993904\n",
      " 6.33993904 6.33993904 6.33993904 6.33993904 6.33993904 6.33993904\n",
      " 5.93447393 5.64679186 6.33993904 6.33993904 6.33993904 6.33993904\n",
      " 6.33993904 6.33993904 6.33993904 6.33993904 6.33993904 6.33993904\n",
      " 5.93447393 6.33993904 5.93447393 6.33993904 6.33993904 6.33993904\n",
      " 6.33993904 6.33993904 6.33993904 6.33993904 5.93447393 6.33993904\n",
      " 5.64679186 5.64679186 6.33993904 6.33993904 6.33993904 5.42364831\n",
      " 6.33993904 6.33993904 5.42364831 6.33993904 6.33993904 6.33993904\n",
      " 6.33993904 6.33993904 6.33993904 6.33993904 6.33993904 6.33993904\n",
      " 6.33993904 6.33993904 6.33993904 6.33993904 6.33993904 6.33993904\n",
      " 5.64679186 6.33993904 6.33993904 6.33993904 6.33993904 6.33993904\n",
      " 6.33993904 6.33993904 6.33993904 5.93447393 6.33993904 6.33993904\n",
      " 6.33993904 5.93447393 6.33993904 6.33993904 6.33993904 6.33993904\n",
      " 6.33993904 5.93447393 5.93447393 6.33993904 6.33993904 6.33993904\n",
      " 6.33993904 6.33993904 6.33993904 6.33993904 6.33993904 6.33993904\n",
      " 6.33993904 6.33993904 6.33993904 6.33993904 6.33993904 6.33993904\n",
      " 6.33993904 6.33993904 6.33993904 6.33993904 6.33993904 6.33993904\n",
      " 6.33993904 6.33993904 6.33993904 6.33993904 6.33993904 6.33993904\n",
      " 6.33993904 6.33993904 6.33993904 6.33993904 6.33993904 6.33993904\n",
      " 6.33993904 6.33993904 5.64679186 6.33993904 6.33993904 6.33993904\n",
      " 5.24132675 6.33993904 6.33993904 6.33993904 6.33993904 6.33993904\n",
      " 6.33993904 6.33993904 6.33993904 6.33993904 6.33993904 6.33993904\n",
      " 6.33993904 6.33993904 6.33993904 6.33993904 6.33993904 6.33993904\n",
      " 6.33993904 6.33993904 6.33993904 6.33993904 6.33993904 5.64679186\n",
      " 6.33993904 5.42364831 6.33993904 6.33993904 5.93447393 5.93447393\n",
      " 6.33993904 6.33993904 6.33993904 6.33993904 6.33993904 6.33993904\n",
      " 6.33993904 6.33993904 6.33993904 6.33993904 6.33993904 6.33993904\n",
      " 6.33993904 5.64679186 6.33993904 5.93447393 6.33993904 6.33993904\n",
      " 6.33993904 6.33993904 6.33993904 5.24132675 6.33993904 4.73050113\n",
      " 6.33993904 6.33993904 6.33993904 6.33993904 6.33993904 5.64679186\n",
      " 6.33993904 6.33993904 6.33993904 6.33993904 6.33993904 6.33993904\n",
      " 6.33993904 6.33993904 6.33993904 6.33993904 6.33993904 6.33993904\n",
      " 5.93447393 5.93447393 6.33993904 6.33993904 6.33993904 6.33993904\n",
      " 6.33993904 6.33993904 6.33993904 5.42364831 6.33993904 6.33993904\n",
      " 5.93447393 6.33993904 6.33993904 6.33993904 6.33993904 6.33993904\n",
      " 6.33993904 6.33993904 6.33993904 6.33993904 5.64679186 6.33993904\n",
      " 4.95364468 6.33993904 6.33993904 6.33993904 6.33993904 5.24132675\n",
      " 6.33993904 6.33993904 6.33993904 4.95364468 6.33993904 6.33993904\n",
      " 5.93447393 6.33993904 6.33993904 6.33993904 5.93447393 6.33993904\n",
      " 6.33993904 6.33993904 6.33993904 5.93447393 6.33993904 6.33993904\n",
      " 6.33993904 6.33993904 6.33993904 6.33993904 6.33993904 5.93447393\n",
      " 6.33993904 6.33993904 6.33993904 6.33993904 6.33993904 6.33993904\n",
      " 6.33993904 6.33993904 5.93447393 6.33993904 6.33993904 5.64679186\n",
      " 6.33993904 6.33993904 6.33993904 6.33993904 5.93447393 6.33993904\n",
      " 5.64679186 6.33993904 6.33993904 6.33993904 6.33993904 5.08717607\n",
      " 6.33993904 6.33993904 6.33993904 5.93447393 6.33993904 6.33993904\n",
      " 6.33993904 6.33993904 6.33993904 6.33993904 6.33993904 6.33993904\n",
      " 4.54817957 5.93447393 6.33993904 6.33993904 6.33993904 6.33993904\n",
      " 6.33993904 6.33993904 6.33993904 5.24132675]\n"
     ]
    }
   ],
   "source": [
    "v.fit(lem_vect)\n",
    "print(v.vocabulary_)\n",
    "print(v.idf_)"
   ]
  },
  {
   "cell_type": "code",
   "execution_count": 48,
   "metadata": {},
   "outputs": [
    {
     "name": "stdout",
     "output_type": "stream",
     "text": [
      "{'slippery': 3, 'propose': 2, 'muslim': 1, 'slope': 4, 'trump': 5, 'ban': 0}\n",
      "[2.38629436 2.38629436 2.38629436 2.38629436 2.38629436 2.38629436]\n"
     ]
    }
   ],
   "source": [
    "w.fit(lem_tit)\n",
    "print(w.vocabulary_)\n",
    "print(w.idf_)"
   ]
  },
  {
   "cell_type": "code",
   "execution_count": 56,
   "metadata": {},
   "outputs": [
    {
     "name": "stdout",
     "output_type": "stream",
     "text": [
      "{'slippery': 3, 'propose': 2, 'muslim': 1, 'slope': 4, 'trump': 5, 'ban': 0}\n"
     ]
    }
   ],
   "source": [
    "word_vocab = w.vocabulary_\n",
    "print(word_vocab)"
   ]
  },
  {
   "cell_type": "code",
   "execution_count": 84,
   "metadata": {},
   "outputs": [],
   "source": [
    "sent = []\n",
    "for i in word_vocab.keys():\n",
    "    sent.append(i)"
   ]
  },
  {
   "cell_type": "code",
   "execution_count": null,
   "metadata": {},
   "outputs": [],
   "source": []
  },
  {
   "cell_type": "code",
   "execution_count": 69,
   "metadata": {},
   "outputs": [],
   "source": [
    "aaa = v.transform(lem_vect,lem_tit)"
   ]
  },
  {
   "cell_type": "code",
   "execution_count": 71,
   "metadata": {},
   "outputs": [
    {
     "data": {
      "text/plain": [
       "array([[0., 0., 0., ..., 0., 0., 0.],\n",
       "       [0., 0., 0., ..., 0., 0., 0.],\n",
       "       [0., 0., 0., ..., 0., 0., 0.],\n",
       "       ...,\n",
       "       [0., 0., 0., ..., 0., 0., 0.],\n",
       "       [0., 0., 0., ..., 0., 0., 0.],\n",
       "       [0., 0., 0., ..., 0., 0., 0.]])"
      ]
     },
     "execution_count": 71,
     "metadata": {},
     "output_type": "execute_result"
    }
   ],
   "source": [
    "aaa.toarray()"
   ]
  },
  {
   "cell_type": "code",
   "execution_count": null,
   "metadata": {},
   "outputs": [],
   "source": []
  }
 ],
 "metadata": {
  "kernelspec": {
   "display_name": "Python 3",
   "language": "python",
   "name": "python3"
  },
  "language_info": {
   "codemirror_mode": {
    "name": "ipython",
    "version": 3
   },
   "file_extension": ".py",
   "mimetype": "text/x-python",
   "name": "python",
   "nbconvert_exporter": "python",
   "pygments_lexer": "ipython3",
   "version": "3.5.2"
  }
 },
 "nbformat": 4,
 "nbformat_minor": 2
}
